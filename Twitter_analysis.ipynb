{
  "nbformat": 4,
  "nbformat_minor": 0,
  "metadata": {
    "colab": {
      "provenance": [],
      "authorship_tag": "ABX9TyOXn6Nsl2DbC5lzMiVoH+v1",
      "include_colab_link": true
    },
    "kernelspec": {
      "name": "python3",
      "display_name": "Python 3"
    },
    "language_info": {
      "name": "python"
    }
  },
  "cells": [
    {
      "cell_type": "markdown",
      "metadata": {
        "id": "view-in-github",
        "colab_type": "text"
      },
      "source": [
        "<a href=\"https://colab.research.google.com/github/sivavenna8/Creditcard/blob/main/Twitter_analysis.ipynb\" target=\"_parent\"><img src=\"https://colab.research.google.com/assets/colab-badge.svg\" alt=\"Open In Colab\"/></a>"
      ]
    },
    {
      "cell_type": "code",
      "execution_count": null,
      "metadata": {
        "id": "lfph-rGLW0St"
      },
      "outputs": [],
      "source": [
        "# Import the necessary libraries\n",
        "import tweepy\n",
        "import pandas as pd\n",
        "import numpy as np\n",
        "import re\n",
        "import matplotlib.pyplot as plt\n",
        "from wordcloud import WordCloud\n",
        "from textblob import TextBlob\n",
        "\n",
        "# Authenticate with Twitter API using your API keys\n",
        "consumer_key = 'your_consumer_key'\n",
        "consumer_secret = 'your_consumer_secret'\n",
        "access_token = 'your_access_token'\n",
        "access_secret = 'your_access_secret'\n",
        "\n",
        "auth = tweepy.OAuthHandler(consumer_key, consumer_secret)\n",
        "auth.set_access_token(access_token, access_secret)\n",
        "api = tweepy.API(auth)\n",
        "\n",
        "# Define the search query and number of tweets to collect\n",
        "query = 'data science'\n",
        "max_tweets = 1000\n",
        "\n",
        "# Collect the tweets using Tweepy\n",
        "tweets = tweepy.Cursor(api.search_tweets,\n",
        "                       q=query,\n",
        "                       lang=\"en\").items(max_tweets)\n",
        "\n",
        "# Create a list of tweet text and user information\n",
        "text = []\n",
        "user = []\n",
        "for tweet in tweets:\n",
        "    text.append(tweet.text)\n",
        "    user.append(tweet.user.screen_name)\n",
        "\n",
        "# Create a dataframe of tweet text and user information\n",
        "df = pd.DataFrame({'user': user, 'text': text})\n",
        "\n",
        "# Clean the tweet text by removing URLs, mentions, and hashtags\n",
        "df['text'] = df['text'].apply(lambda x: re.sub(r'http\\S+', '', x))\n",
        "df['text'] = df['text'].apply(lambda x: re.sub(r'@\\S+', '', x))\n",
        "df['text'] = df['text'].apply(lambda x: re.sub(r'#\\S+', '', x))\n",
        "\n",
        "# Define a function to calculate the sentiment polarity of each tweet\n",
        "def get_polarity(text):\n",
        "    return TextBlob(text).sentiment.polarity\n",
        "\n",
        "# Add a column for sentiment polarity to the dataframe\n",
        "df['polarity'] = df['text'].apply(get_polarity)\n",
        "\n",
        "# Plot a histogram of sentiment polarity scores\n",
        "plt.hist(df['polarity'])\n",
        "plt.xlabel('Sentiment Polarity')\n",
        "plt.ylabel('Frequency')\n",
        "plt.title('Distribution of Sentiment Polarity Scores')\n",
        "plt.show()\n",
        "\n",
        "# Create a word cloud of the most common words in the tweets\n",
        "wordcloud = WordCloud().generate(' '.join(df['text']))\n",
        "plt.imshow(wordcloud, interpolation='bilinear')\n",
        "plt.axis('off')\n",
        "plt.title('Word Cloud of Tweets')\n",
        "plt.show()\n",
        "\n",
        "# Print the top 10 users who tweeted about the search query\n",
        "print(df['user'].value_counts()[:10])\n"
      ]
    }
  ]
}